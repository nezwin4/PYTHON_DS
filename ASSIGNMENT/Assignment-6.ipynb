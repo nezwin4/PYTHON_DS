{
 "cells": [
  {
   "cell_type": "markdown",
   "id": "b5fd6e46",
   "metadata": {},
   "source": [
    "1.Create a class Rectangle with attributes length and width. Write methods to calculate area and perimeter. "
   ]
  },
  {
   "cell_type": "code",
   "execution_count": null,
   "id": "1b0dde9e",
   "metadata": {},
   "outputs": [
    {
     "name": "stdout",
     "output_type": "stream",
     "text": [
      "Area of the Rectangle = 10\n",
      "Perimeter of the Rectangle = 14\n"
     ]
    }
   ],
   "source": [
    "class rectangle:\n",
    "    def area(lenght,width):\n",
    "        a = lenght*width\n",
    "        print(f\"Area of the Rectangle = {a}\")\n",
    "    \n",
    "    def perimeter(lenght,width):\n",
    "        p = 2*(lenght+width)\n",
    "        print(f\"Perimeter of the Rectangle = {p}\")\n",
    "\n",
    "rectangle.area(2,5)\n",
    "rectangle.perimeter(2,5)"
   ]
  },
  {
   "cell_type": "markdown",
   "id": "2b406966",
   "metadata": {},
   "source": [
    "2.Create a class Calculator with methods add(), subtract(), multiply(), and divide()."
   ]
  },
  {
   "cell_type": "code",
   "execution_count": 12,
   "id": "16fbc62a",
   "metadata": {},
   "outputs": [
    {
     "name": "stdout",
     "output_type": "stream",
     "text": [
      "Sum=15\n",
      "sub= 5\n",
      "mult=50\n",
      "Div=2.0\n",
      "Div=5.0\n"
     ]
    }
   ],
   "source": [
    "class Calculator:\n",
    "    def add(self, a, b):\n",
    "        print(f'Sum={a + b}')\n",
    "\n",
    "    def subtract(self, a, b):\n",
    "        print(f'sub= {a - b}')\n",
    "\n",
    "    def multiply(self, a, b):\n",
    "        print(f'mult={a * b}')\n",
    "\n",
    "    def divide(self, a, b):\n",
    "        print(f'Div={a / b}')\n",
    "\n",
    "\n",
    "calc = Calculator()\n",
    "calc.add(10, 5)\n",
    "calc.subtract(10, 5)\n",
    "calc.multiply(10, 5)\n",
    "calc.divide(10, 5)\n",
    "calc.divide(10, 2)"
   ]
  },
  {
   "cell_type": "markdown",
   "id": "7f5fe167",
   "metadata": {},
   "source": [
    "3.Create a class Circle with attribute radius. Write methods to calculate area and circumference."
   ]
  },
  {
   "cell_type": "code",
   "execution_count": 13,
   "id": "a56e3381",
   "metadata": {},
   "outputs": [
    {
     "name": "stdout",
     "output_type": "stream",
     "text": [
      "Area=78.5\n",
      "Circum=31.400000000000002\n"
     ]
    }
   ],
   "source": [
    "class circle:\n",
    "    def area(r):\n",
    "        print(f'Area={3.14*r*r}')\n",
    "    def circum(r):\n",
    "        print(f'Circum={2*3.14*r}')\n",
    "\n",
    "circle.area(5)\n",
    "circle.circum(5)"
   ]
  },
  {
   "cell_type": "markdown",
   "id": "ffedc32f",
   "metadata": {},
   "source": [
    "4.create a class Employee with attributes name and salary. Add a method display() to show details."
   ]
  },
  {
   "cell_type": "code",
   "execution_count": 17,
   "id": "02593dba",
   "metadata": {},
   "outputs": [
    {
     "name": "stdout",
     "output_type": "stream",
     "text": [
      "helix,2000\n"
     ]
    }
   ],
   "source": [
    "class employee:\n",
    "    def display(name,salary):\n",
    "        print(f\"{name},{salary}\")\n",
    "\n",
    "employee.display('helix',2000)"
   ]
  },
  {
   "cell_type": "markdown",
   "id": "d7d5c26c",
   "metadata": {},
   "source": [
    "5. Create a class BankAccount with attributes account_number and balance. Add methods:\n",
    "deposit(amount)\n",
    "withdraw(amount)\n",
    "check_balance()"
   ]
  },
  {
   "cell_type": "code",
   "execution_count": null,
   "id": "0f1b0477",
   "metadata": {},
   "outputs": [
    {
     "name": "stdout",
     "output_type": "stream",
     "text": [
      "Deposited: 200\n",
      "Withdrawn: 100\n",
      "Account 101 balance: 600\n"
     ]
    }
   ],
   "source": [
    "class BankAccount:\n",
    "    def __init__(self, account_number, balance=0):\n",
    "        self.account_number = account_number\n",
    "        self.balance = balance\n",
    "\n",
    "    def deposit(self, amount):\n",
    "        if amount > 0:\n",
    "            self.balance += amount\n",
    "            print(f\"Deposited: {amount}\")\n",
    "        else:\n",
    "            print(\"Deposit amount must be positive.\")\n",
    "\n",
    "    def withdraw(self, amount):\n",
    "        if amount > self.balance:\n",
    "            print(\"Insufficient balance.\")\n",
    "        elif amount <= 0:\n",
    "            print(\"Withdrawal amount must be positive.\")\n",
    "        else:\n",
    "            self.balance -= amount\n",
    "            print(f\"Withdrawn: {amount}\")\n",
    "\n",
    "    def check_balance(self):\n",
    "        print(f\"Account {self.account_number} balance: {self.balance}\")\n",
    "\n",
    "\n",
    "\n",
    "account = BankAccount(101, 500)\n",
    "account.deposit(200)\n",
    "account.withdraw(100)\n",
    "account.check_balance()"
   ]
  },
  {
   "cell_type": "markdown",
   "id": "d42830b2",
   "metadata": {},
   "source": [
    "6.Create a class Temperature with methods:\n",
    "\n",
    "celsius_to_fahrenheit(c)\n",
    "\n",
    "fahrenheit_to_celsius(f)"
   ]
  },
  {
   "cell_type": "code",
   "execution_count": null,
   "id": "bb782972",
   "metadata": {},
   "outputs": [
    {
     "name": "stdout",
     "output_type": "stream",
     "text": [
      "304.15F\n",
      "65.85000000000002C\n"
     ]
    }
   ],
   "source": [
    "class temperature:\n",
    "    def celsius_to_fahrenheit(c):\n",
    "        print(f\"{c+274.15}F\")\n",
    "    \n",
    "    def fahrenheit_to_celsius(f):\n",
    "        print(f\"{f-274.15}C\")\n",
    "\n",
    "temperature.celsius_to_fahrenheit(30)\n",
    "temperature.fahrenheit_to_celsius(340)"
   ]
  },
  {
   "cell_type": "markdown",
   "id": "f9f2e495",
   "metadata": {},
   "source": [
    "7. Shopping cart\n",
    "Create a class Cart that allows:\n",
    "add_item(item)\n",
    "remove_item(item)\n",
    "view_cart()\n"
   ]
  },
  {
   "cell_type": "code",
   "execution_count": null,
   "id": "d3ed3efb",
   "metadata": {},
   "outputs": [
    {
     "name": "stdout",
     "output_type": "stream",
     "text": [
      "Laptop added to cart.\n",
      "Phone added to cart.\n",
      "Items in your cart:\n",
      "1. Laptop\n",
      "2. Phone\n",
      "Phone removed from cart.\n",
      "Items in your cart:\n",
      "1. Laptop\n"
     ]
    }
   ],
   "source": [
    "class Cart:\n",
    "    def __init__(self):\n",
    "        self.items = [] \n",
    "    \n",
    "    def add_item(self, item):\n",
    "        self.items.append(item)\n",
    "        print(f\"{item} added to cart.\")\n",
    "    \n",
    "    def remove_item(self, item):\n",
    "        if item in self.items:\n",
    "            self.items.remove(item)\n",
    "            print(f\"{item} removed from cart.\")\n",
    "        else:\n",
    "            print(f\"{item} not found in cart.\")\n",
    "    \n",
    "    def view_cart(self):\n",
    "        if not self.items:\n",
    "            print(\"Your cart is empty.\")\n",
    "        else:\n",
    "            print(\"Items in your cart:\")\n",
    "            for i, item in enumerate(self.items, 1):\n",
    "                print(f\"{i}. {item}\")\n",
    "\n",
    "\n",
    "cart = Cart()\n",
    "cart.add_item(\"Laptop\")\n",
    "cart.add_item(\"Phone\")\n",
    "cart.view_cart()\n",
    "cart.remove_item(\"Phone\")\n",
    "cart.view_cart()"
   ]
  },
  {
   "cell_type": "code",
   "execution_count": null,
   "id": "78c933fd",
   "metadata": {},
   "outputs": [],
   "source": []
  }
 ],
 "metadata": {
  "kernelspec": {
   "display_name": "Python 3",
   "language": "python",
   "name": "python3"
  },
  "language_info": {
   "codemirror_mode": {
    "name": "ipython",
    "version": 3
   },
   "file_extension": ".py",
   "mimetype": "text/x-python",
   "name": "python",
   "nbconvert_exporter": "python",
   "pygments_lexer": "ipython3",
   "version": "3.11.8"
  }
 },
 "nbformat": 4,
 "nbformat_minor": 5
}
