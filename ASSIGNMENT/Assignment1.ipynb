{
 "cells": [
  {
   "cell_type": "code",
   "execution_count": 3,
   "id": "054b4c67",
   "metadata": {},
   "outputs": [
    {
     "name": "stdout",
     "output_type": "stream",
     "text": [
      "its a square\n"
     ]
    }
   ],
   "source": [
    "#square\n",
    "a=int(input(\"enter the length\"))\n",
    "b=int(input(\"enter the breadth\"))\n",
    "if a==b:\n",
    "    print(\"its a square\")\n",
    "else:\n",
    "    print(\"not a square\")"
   ]
  },
  {
   "cell_type": "code",
   "execution_count": null,
   "id": "60c86202",
   "metadata": {},
   "outputs": [
    {
     "name": "stdout",
     "output_type": "stream",
     "text": [
      "2500.0\n"
     ]
    }
   ],
   "source": [
    "#5% intrest\n",
    "salary=int(input(\"enter the salary:\"))\n",
    "year=int(input(\"enter the years\"))\n",
    "if year>5:\n",
    "    b=salary*0.05\n",
    "    print(\"the bonus amount is\",b)\n"
   ]
  },
  {
   "cell_type": "code",
   "execution_count": 7,
   "id": "f10f34d1",
   "metadata": {},
   "outputs": [
    {
     "name": "stdout",
     "output_type": "stream",
     "text": [
      "the number is even\n"
     ]
    }
   ],
   "source": [
    "#even or odd\n",
    "n=int(input(\"enter a number\"))\n",
    "if n%2==0:\n",
    "    print(\"the number is even\")\n",
    "else:\n",
    "    print(\"the number is odd\")"
   ]
  },
  {
   "cell_type": "code",
   "execution_count": null,
   "id": "24bcbf40",
   "metadata": {},
   "outputs": [
    {
     "name": "stdout",
     "output_type": "stream",
     "text": [
      "both number is equal\n"
     ]
    }
   ],
   "source": [
    "#greatest number\n",
    "c=int(input(\"enter a num:\"))\n",
    "d=int(input(\"enter the second num:\"))\n",
    "if c>d:\n",
    "    print(\"the greatest number is\",c)\n",
    "elif d>c:\n",
    "    print(\"the greatest number is\",d)\n",
    "else:\n",
    "        print(\"both number is equal\")\n",
    "\n"
   ]
  },
  {
   "cell_type": "code",
   "execution_count": null,
   "id": "aa1a79d0",
   "metadata": {},
   "outputs": [
    {
     "name": "stdout",
     "output_type": "stream",
     "text": [
      "GRADE C\n"
     ]
    }
   ],
   "source": [
    "#MARKS\n",
    "h=int(input(\"enter the marks\"))\n",
    "if h>80:\n",
    "    print(\"GRADE A\")\n",
    "elif h>60:\n",
    "    print(\"GRADE B\")\n",
    "elif h>50:\n",
    "    print(\"GRADE C\")\n",
    "elif h>45:\n",
    "    print(\"GRADE D\")\n",
    "elif h>25:\n",
    "    print(\"GRADE E\")\n",
    "else:\n",
    "    print(\"FAILED\")"
   ]
  },
  {
   "cell_type": "code",
   "execution_count": 12,
   "id": "f284d574",
   "metadata": {},
   "outputs": [
    {
     "name": "stdout",
     "output_type": "stream",
     "text": [
      "second one is the oldest\n"
     ]
    }
   ],
   "source": [
    "ag1=int(input(\"enter the age\"))\n",
    "ag2=int(input(\"enter the age\"))\n",
    "ag3=int(input(\"enter the age\"))\n",
    "\n",
    "if ag1>ag2 and ag1>ag3:\n",
    "    print(\"first one is the oldest\")\n",
    "elif ag2>ag1 and ag2>ag3:\n",
    "    print(\"second one is the oldest\")\n",
    "else:\n",
    "    print(\"third one is the oldest\")"
   ]
  },
  {
   "cell_type": "code",
   "execution_count": 16,
   "id": "93f8e12e",
   "metadata": {},
   "outputs": [
    {
     "name": "stdout",
     "output_type": "stream",
     "text": [
      "83.33333333333334\n",
      "he  is allowed to sit in exam\n"
     ]
    }
   ],
   "source": [
    "c=int(input(\"enter the num of classes held\"))\n",
    "d=int(input(\"enter the num of classes attended\"))\n",
    "e=d/c*100\n",
    "print(e)\n",
    "if e>75:\n",
    "    print(\"he  is allowed to sit in exam\")\n",
    "else:\n",
    "        print(\"he  is not allowed to sit in exam\")\n"
   ]
  },
  {
   "cell_type": "code",
   "execution_count": null,
   "id": "0526edf0",
   "metadata": {},
   "outputs": [],
   "source": []
  }
 ],
 "metadata": {
  "kernelspec": {
   "display_name": "base",
   "language": "python",
   "name": "python3"
  },
  "language_info": {
   "codemirror_mode": {
    "name": "ipython",
    "version": 3
   },
   "file_extension": ".py",
   "mimetype": "text/x-python",
   "name": "python",
   "nbconvert_exporter": "python",
   "pygments_lexer": "ipython3",
   "version": "3.11.7"
  }
 },
 "nbformat": 4,
 "nbformat_minor": 5
}
