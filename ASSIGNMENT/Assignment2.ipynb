{
 "cells": [
  {
   "cell_type": "markdown",
   "id": "726d30c4",
   "metadata": {},
   "source": [
    "1.Find Even Number In Python Using For Loop"
   ]
  },
  {
   "cell_type": "code",
   "execution_count": 2,
   "id": "04d1dfdb",
   "metadata": {},
   "outputs": [
    {
     "name": "stdout",
     "output_type": "stream",
     "text": [
      "2\n",
      "4\n",
      "6\n",
      "8\n",
      "10\n"
     ]
    }
   ],
   "source": [
    "n = int(input(\"Enter the stopping number: \"))\n",
    "for i in range(1,n+1):\n",
    "    if i % 2 == 0:\n",
    "        print(i)"
   ]
  },
  {
   "cell_type": "markdown",
   "id": "c379402d",
   "metadata": {},
   "source": [
    "2.Sum of First N Natural Numbers"
   ]
  },
  {
   "cell_type": "code",
   "execution_count": null,
   "id": "3ca7372f",
   "metadata": {},
   "outputs": [
    {
     "name": "stdout",
     "output_type": "stream",
     "text": [
      "The sum of first 5 natural numbers is: 15\n"
     ]
    }
   ],
   "source": [
    "n = int(input(\"Enter the number:\"))\n",
    "sum = 0\n",
    "for i in range(1,n+1):\n",
    "    if n > 0:\n",
    "        sum += i\n",
    "print(\"The sum of first\",n,\"natural numbers is:\",sum)"
   ]
  },
  {
   "cell_type": "markdown",
   "id": "003ddf52",
   "metadata": {},
   "source": [
    "3.Print Each Character in a String"
   ]
  },
  {
   "cell_type": "code",
   "execution_count": null,
   "id": "9f3c5cfa",
   "metadata": {},
   "outputs": [
    {
     "name": "stdout",
     "output_type": "stream",
     "text": [
      "a \n",
      "\n",
      "s \n",
      "\n",
      "w \n",
      "\n",
      "a \n",
      "\n",
      "t \n",
      "\n",
      "h \n",
      "\n"
     ]
    }
   ],
   "source": [
    "s = input(\"Enter a string: \")\n",
    "for char in s:\n",
    "    print(char)"
   ]
  },
  {
   "cell_type": "markdown",
   "id": "ca360e0b",
   "metadata": {},
   "source": [
    "4.Print multiplication table using for loop"
   ]
  },
  {
   "cell_type": "code",
   "execution_count": 9,
   "id": "5ee665d8",
   "metadata": {},
   "outputs": [
    {
     "name": "stdout",
     "output_type": "stream",
     "text": [
      "1 * 5 = 5\n",
      "2 * 5 = 10\n",
      "3 * 5 = 15\n",
      "4 * 5 = 20\n",
      "5 * 5 = 25\n",
      "6 * 5 = 30\n",
      "7 * 5 = 35\n",
      "8 * 5 = 40\n",
      "9 * 5 = 45\n",
      "10 * 5 = 50\n"
     ]
    }
   ],
   "source": [
    "n= int(input(\"Enter the number:\"))\n",
    "for i in range(1,10+1):\n",
    "    print(i,\"*\",n,\"=\",i*n)"
   ]
  },
  {
   "cell_type": "markdown",
   "id": "2bea435b",
   "metadata": {},
   "source": [
    "5.While loop"
   ]
  },
  {
   "cell_type": "code",
   "execution_count": 13,
   "id": "f4851593",
   "metadata": {},
   "outputs": [
    {
     "name": "stdout",
     "output_type": "stream",
     "text": [
      "1 X 5 = 5\n",
      "2 X 5 = 10\n",
      "3 X 5 = 15\n",
      "4 X 5 = 20\n",
      "5 X 5 = 25\n",
      "6 X 5 = 30\n",
      "7 X 5 = 35\n",
      "8 X 5 = 40\n",
      "9 X 5 = 45\n",
      "10 X 5 = 50\n"
     ]
    }
   ],
   "source": [
    "n= int(input(\"Enter the number:\"))\n",
    "i = 1\n",
    "while i<=10:\n",
    "    print(i,\"X\",n,\"=\",i*n)\n",
    "    i += 1\n"
   ]
  },
  {
   "cell_type": "markdown",
   "id": "7347374a",
   "metadata": {},
   "source": [
    "6.Write program to print any two * patterns"
   ]
  },
  {
   "cell_type": "code",
   "execution_count": 24,
   "id": "fc15b9ae",
   "metadata": {},
   "outputs": [
    {
     "name": "stdout",
     "output_type": "stream",
     "text": [
      "*\n",
      "**\n",
      "***\n",
      "****\n",
      "*****\n",
      "\n",
      "\n",
      "*****\n",
      "****\n",
      "***\n",
      "**\n",
      "*\n"
     ]
    }
   ],
   "source": [
    "for i in range(5):\n",
    "    for j in range(i+1):\n",
    "        print(\"*\", end=\"\")\n",
    "    print()\n",
    "\n",
    "print(\"\\n\")\n",
    "\n",
    "for i in range(5, 0, -1):\n",
    "    for j in range(i):\n",
    "        print(\"*\", end=\"\")\n",
    "    print()"
   ]
  },
  {
   "cell_type": "markdown",
   "id": "5ce8c935",
   "metadata": {},
   "source": [
    "check prime or not"
   ]
  },
  {
   "cell_type": "code",
   "execution_count": 27,
   "id": "ab22174d",
   "metadata": {},
   "outputs": [
    {
     "name": "stdout",
     "output_type": "stream",
     "text": [
      "20 is not a prime number\n"
     ]
    }
   ],
   "source": [
    "n = int(input(\"Enter a number: \"))\n",
    "if n > 1:\n",
    "    for k in range(2, n):\n",
    "        if n % k == 0:\n",
    "            print(n, \"is not a prime number\")\n",
    "            break\n",
    "    else:\n",
    "        print(n, \"is a prime number\")\n",
    "else:\n",
    "    print(n, \"is not a prime number\")"
   ]
  },
  {
   "cell_type": "markdown",
   "id": "6caf456e",
   "metadata": {},
   "source": [
    "Python program to find the factorial of a number provided by the user."
   ]
  },
  {
   "cell_type": "code",
   "execution_count": 1,
   "id": "a18bcb54",
   "metadata": {},
   "outputs": [
    {
     "name": "stdout",
     "output_type": "stream",
     "text": [
      "The factorial of 5 is 120\n"
     ]
    }
   ],
   "source": [
    "number = int(input(\"Enter a number: \"))\n",
    "\n",
    "factorial = 1\n",
    "for i in range(1, number + 1):\n",
    "    factorial *= i\n",
    "print(\"The factorial of\", number, \"is\", factorial)\n"
   ]
  },
  {
   "cell_type": "markdown",
   "id": "4eab7caa",
   "metadata": {},
   "source": [
    "We will the input() function to ask the user to enter an integer and that integer will only be appended to list if it's even."
   ]
  },
  {
   "cell_type": "code",
   "execution_count": null,
   "id": "9f914037",
   "metadata": {},
   "outputs": [
    {
     "name": "stdout",
     "output_type": "stream",
     "text": [
      "[6]\n"
     ]
    }
   ],
   "source": [
    "n = int(input(\"Enter the number :\"))\n",
    "list1 = []\n",
    "\n",
    "if n%2==0:\n",
    "    list1.append(n)\n",
    "print(list1)"
   ]
  },
  {
   "cell_type": "markdown",
   "id": "b422f936",
   "metadata": {},
   "source": [
    "Print first 10 terms in fibonacci series"
   ]
  },
  {
   "cell_type": "code",
   "execution_count": 7,
   "id": "1a81833b",
   "metadata": {},
   "outputs": [
    {
     "name": "stdout",
     "output_type": "stream",
     "text": [
      "[0, 1, 1, 2, 3, 5, 8, 13, 21, 34]\n"
     ]
    }
   ],
   "source": [
    "a=0\n",
    "b=1\n",
    "list1 = []\n",
    "\n",
    "for i in range(10):\n",
    "    list1.append(a)\n",
    "    c=a+b\n",
    "    a=b\n",
    "    b=c\n",
    "print(list1)\n"
   ]
  }
 ],
 "metadata": {
  "kernelspec": {
   "display_name": "Python 3",
   "language": "python",
   "name": "python3"
  },
  "language_info": {
   "codemirror_mode": {
    "name": "ipython",
    "version": 3
   },
   "file_extension": ".py",
   "mimetype": "text/x-python",
   "name": "python",
   "nbconvert_exporter": "python",
   "pygments_lexer": "ipython3",
   "version": "3.11.8"
  }
 },
 "nbformat": 4,
 "nbformat_minor": 5
}
