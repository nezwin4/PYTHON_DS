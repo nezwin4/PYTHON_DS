{
 "cells": [
  {
   "cell_type": "markdown",
   "id": "4bddac29",
   "metadata": {},
   "source": [
    "1.You are given a list that contains integers. You need to print the elements of the list with a space between them.\n",
    "Input: arr[] = [54, 43, 2, 1, 5]\n",
    "Output: 54 43 2 1 5\n",
    "Explanation: Just traverse and print the numbers.\n"
   ]
  },
  {
   "cell_type": "code",
   "execution_count": 1,
   "id": "d52e0f2c",
   "metadata": {},
   "outputs": [
    {
     "name": "stdout",
     "output_type": "stream",
     "text": [
      "54 43 2 1 5 "
     ]
    }
   ],
   "source": [
    "arr=[54, 43, 2, 1, 5]\n",
    "\n",
    "for i in range(len(arr)):\n",
    "    print(arr[i], end=\" \")"
   ]
  },
  {
   "cell_type": "markdown",
   "id": "da9e31dc",
   "metadata": {},
   "source": [
    "2.You are given a list that contains integers. You need to return the sum of the list.\n",
    "Input: arr = [54, 43, 2, 1, 5]\n",
    "Output: 105\n",
    "Explanation: Just sum it 54 + 43 + 2 + 1 + 5 = 105."
   ]
  },
  {
   "cell_type": "code",
   "execution_count": 3,
   "id": "4d5aa319",
   "metadata": {},
   "outputs": [
    {
     "name": "stdout",
     "output_type": "stream",
     "text": [
      "105\n"
     ]
    }
   ],
   "source": [
    "arr=[54, 43, 2, 1, 5]\n",
    "sum=0\n",
    "\n",
    "for i in range(len(arr)):\n",
    "    sum +=arr[i]\n",
    "print(sum) "
   ]
  },
  {
   "cell_type": "markdown",
   "id": "75749dd1",
   "metadata": {},
   "source": [
    "3.You are given three inputs a, b, c. You need to create a list and append a, b, c to the list and then return that list.\n",
    "\n",
    "Input: a = 1, b = 2, c = 3\n",
    "Output: 1 2 3\n",
    "Explanation: Just create a list and append 1 2 3 to it. Then return [1,2,3] list."
   ]
  },
  {
   "cell_type": "code",
   "execution_count": 4,
   "id": "094c0e13",
   "metadata": {},
   "outputs": [
    {
     "name": "stdout",
     "output_type": "stream",
     "text": [
      "[1, 2, 3]\n"
     ]
    }
   ],
   "source": [
    "list1=[]\n",
    "a=int(input(\"Enter the elements: \"))\n",
    "b=int(input(\"Enter the elements: \"))\n",
    "c=int(input(\"Enter the elements: \"))\n",
    "\n",
    "list1.append(a)\n",
    "list1.append(b)\n",
    "list1.append(c)\n",
    "print(list1)"
   ]
  },
  {
   "cell_type": "markdown",
   "id": "6b052e1d",
   "metadata": {},
   "source": [
    "4. You are given a list arr that contains integers. You need to return average of the non negative integers.\n",
    "\n",
    "Input: arr = [-12, 8, -7, 6, 12, -9, 14]\n",
    "Output: avg = 10.0\n",
    "Explanation: The non negative numbers are 8 6 12 14. The sum is 8+6+12+14 = 40, Average = 40/4 = 10.0"
   ]
  },
  {
   "cell_type": "code",
   "execution_count": 17,
   "id": "f7b30edb",
   "metadata": {},
   "outputs": [
    {
     "name": "stdout",
     "output_type": "stream",
     "text": [
      "[8, 6, 12, 14]\n",
      "Sum = 40\n",
      "Avg =  10.0\n"
     ]
    }
   ],
   "source": [
    "arr=[-12, 8, -7, 6, 12, -9, 14]\n",
    "\n",
    "non_neg_int=[]\n",
    "\n",
    "sum_non=0\n",
    "\n",
    "for i in range(len(arr)):\n",
    "    if arr[i]>=0:\n",
    "        non_neg_int.append(arr[i])\n",
    "\n",
    "print(non_neg_int)\n",
    "for j in range(len(non_neg_int)):\n",
    "    sum_non +=non_neg_int[j]\n",
    "\n",
    "print(\"Sum =\",sum_non)\n",
    "\n",
    "avg=sum_non/len(non_neg_int)\n",
    "print(\"Avg = \",avg)"
   ]
  },
  {
   "cell_type": "markdown",
   "id": "1e01df75",
   "metadata": {},
   "source": [
    "5. Given a number n, check if the number is perfect or not. A number is said to be perfect if sum of all its factors excluding the number itself is equal to the number.\n",
    "\n",
    "Examples \n",
    "Input: n = 6\n",
    "Output: true \n",
    "Explanation: Factors of 6 are 1, 2, 3 and 6. Excluding 6 their sum is 6 which is equal to n itself. So, it's a Perfect Number.\n",
    "\n",
    "Input: n = 10\n",
    "Output: false\n",
    "Explanation: Factors of 10 are 1, 2, 5 and 10. Excluding 10 their sum is 8 which is not equal to n itself. So, it's not a Perfect Number.\n",
    "\n",
    "Input: n = 15\n",
    "Output: false\n",
    "Explanation: Factors of 15 are 1, 3, 5, 15. Excluding 15 their sum is 9 which is not equal to n itself. So, it's not a Perfect Number.\n"
   ]
  },
  {
   "cell_type": "code",
   "execution_count": 19,
   "id": "648b526a",
   "metadata": {},
   "outputs": [
    {
     "name": "stdout",
     "output_type": "stream",
     "text": [
      "false\n"
     ]
    }
   ],
   "source": [
    "n = int(input(\"Enter a number: \"))\n",
    "sum_factors = 0\n",
    "\n",
    "for i in range(1, n):\n",
    "    if n % i == 0:\n",
    "        sum_factors += i\n",
    "\n",
    "if sum_factors == n:\n",
    "    print(\"true\")\n",
    "else:\n",
    "    print(\"false\")"
   ]
  },
  {
   "cell_type": "markdown",
   "id": "b61314ef",
   "metadata": {},
   "source": [
    "6. Create a nested dictionary and access it’s elements"
   ]
  },
  {
   "cell_type": "code",
   "execution_count": 22,
   "id": "e10b2908",
   "metadata": {},
   "outputs": [
    {
     "name": "stdout",
     "output_type": "stream",
     "text": [
      "['Maths', 'CompScience']\n"
     ]
    }
   ],
   "source": [
    "stduents = {\n",
    "    \"student1\": {\n",
    "        \"name\": \"John\",\n",
    "        \"age\": 21,\n",
    "        \"courses\": [\"Maths\", \"CompScience\"]\n",
    "    },\n",
    "    \"student2\": {\n",
    "        \"name\": \"Jane\",\n",
    "        \"age\": 22,\n",
    "        \"courses\": [\"English\", \"History\"]\n",
    "    },\n",
    "    \"student3\": {\n",
    "        \"name\": \"Dave\",\n",
    "        \"age\": 20,\n",
    "        \"courses\": [\"Biology\", \"Chemistry\"]\n",
    "    }\n",
    "}\n",
    "\n",
    "print(stduents['student1']['courses'])"
   ]
  },
  {
   "cell_type": "markdown",
   "id": "35ae9f85",
   "metadata": {},
   "source": [
    "Functions "
   ]
  },
  {
   "cell_type": "markdown",
   "id": "93bb2768",
   "metadata": {},
   "source": [
    "1.Write a Python program to find the maximum from the given three numbers."
   ]
  },
  {
   "cell_type": "code",
   "execution_count": 28,
   "id": "d31f1932",
   "metadata": {},
   "outputs": [
    {
     "name": "stdout",
     "output_type": "stream",
     "text": [
      "b is the maximum number 10\n"
     ]
    }
   ],
   "source": [
    "def max_num(a, b, c):\n",
    "    if a >= b and a >= c:\n",
    "        print(\"a is the maximum number\",a)\n",
    "    elif b >= a and b >= c:\n",
    "        print(\"b is the maximum number\",b)\n",
    "    else:\n",
    "        print(\"c is the maximum number\",c)\n",
    "\n",
    "max_num(5, 10, 3)"
   ]
  },
  {
   "cell_type": "markdown",
   "id": "f5974378",
   "metadata": {},
   "source": [
    "2.Prime number"
   ]
  },
  {
   "cell_type": "code",
   "execution_count": 36,
   "id": "9f26b0b5",
   "metadata": {},
   "outputs": [
    {
     "name": "stdout",
     "output_type": "stream",
     "text": [
      "11 is a prime number\n"
     ]
    }
   ],
   "source": [
    "def is_prime(n):\n",
    "    if n > 1:\n",
    "        for i in range(2, n):\n",
    "            if n % i == 0:\n",
    "                print(n, \"is not a prime number\")\n",
    "                break\n",
    "        else:\n",
    "            print(n, \"is a prime number\")\n",
    "    else:\n",
    "        print(n, \"is not a prime number\")\n",
    "\n",
    "is_prime(11)"
   ]
  },
  {
   "cell_type": "markdown",
   "id": "3a0ec58b",
   "metadata": {},
   "source": [
    "3.Factorial"
   ]
  },
  {
   "cell_type": "code",
   "execution_count": 35,
   "id": "38c5afb5",
   "metadata": {},
   "outputs": [
    {
     "name": "stdout",
     "output_type": "stream",
     "text": [
      "The factorial of 5 is 120\n"
     ]
    }
   ],
   "source": [
    "def factorial(n):\n",
    "    factorial = 1\n",
    "    for i in range(1, n + 1):\n",
    "        factorial *= i\n",
    "    print(\"The factorial of\", n, \"is\", factorial)\n",
    "\n",
    "factorial(5)"
   ]
  },
  {
   "cell_type": "markdown",
   "id": "1eed3514",
   "metadata": {},
   "source": [
    "4.Fibonacci"
   ]
  },
  {
   "cell_type": "code",
   "execution_count": 39,
   "id": "c8c3c708",
   "metadata": {},
   "outputs": [
    {
     "name": "stdout",
     "output_type": "stream",
     "text": [
      "[0, 1, 1, 2, 3, 5, 8, 13, 21, 34]\n"
     ]
    }
   ],
   "source": [
    "def fibonacci(n):\n",
    "    a=0\n",
    "    b=1\n",
    "    list1 = []\n",
    "\n",
    "    for i in range(n):\n",
    "        list1.append(a)\n",
    "        c=a+b\n",
    "        a=b\n",
    "        b=c\n",
    "    print(list1)\n",
    "\n",
    "fibonacci(10)"
   ]
  },
  {
   "cell_type": "markdown",
   "id": "2554c19d",
   "metadata": {},
   "source": [
    "5.Write a Python program to calculate the sum of all the numbers present in a list."
   ]
  },
  {
   "cell_type": "code",
   "execution_count": 40,
   "id": "331ff666",
   "metadata": {},
   "outputs": [
    {
     "name": "stdout",
     "output_type": "stream",
     "text": [
      "sum of the list = 15\n"
     ]
    }
   ],
   "source": [
    "def sum_list(lst):\n",
    "    total = 0\n",
    "    for num in lst:\n",
    "        total += num\n",
    "    print(\"sum of the list =\",total)\n",
    "\n",
    "sum_list([1, 2, 3, 4, 5])"
   ]
  },
  {
   "cell_type": "markdown",
   "id": "6db06eae",
   "metadata": {},
   "source": [
    "6.Write a Python program to calculate the multiplication of all the numbers present in a list."
   ]
  },
  {
   "cell_type": "code",
   "execution_count": 42,
   "id": "dad7d6e5",
   "metadata": {},
   "outputs": [
    {
     "name": "stdout",
     "output_type": "stream",
     "text": [
      "multiplication of the list = 120\n"
     ]
    }
   ],
   "source": [
    "def mult_list(lst):\n",
    "    product = 1\n",
    "    for num in lst:\n",
    "        product *= num\n",
    "    print(\"multiplication of the list =\",product)\n",
    "\n",
    "mult_list([1, 2, 3, 4, 5])"
   ]
  },
  {
   "cell_type": "markdown",
   "id": "e4199e2e",
   "metadata": {},
   "source": [
    "7.Write a Python program that takes a string as an input and calculates the number of upper case and lower case letters present in the string"
   ]
  },
  {
   "cell_type": "code",
   "execution_count": 47,
   "id": "05b4aa82",
   "metadata": {},
   "outputs": [
    {
     "name": "stdout",
     "output_type": "stream",
     "text": [
      "Entered string is: Awath\n",
      "Number of uppercase letters = 1\n"
     ]
    }
   ],
   "source": [
    "string = input(\"Enter a string: \")\n",
    "n=0\n",
    "print(\"Entered string is:\",string)\n",
    "for i in string:\n",
    "    if i==i.upper():\n",
    "        n+=1\n",
    "\n",
    "print(\"Number of uppercase letters =\",n)"
   ]
  },
  {
   "cell_type": "markdown",
   "id": "f4e49895",
   "metadata": {},
   "source": [
    "8. Function to Find Maximum of 3 Numbers"
   ]
  },
  {
   "cell_type": "code",
   "execution_count": 48,
   "id": "4c2754c0",
   "metadata": {},
   "outputs": [
    {
     "name": "stdout",
     "output_type": "stream",
     "text": [
      "c is the maximum number 3\n"
     ]
    }
   ],
   "source": [
    "def max_num(a, b, c):\n",
    "    if a >= b and a >= c:\n",
    "        print(\"a is the maximum number\",a)\n",
    "    elif b >= a and b >= c:\n",
    "        print(\"b is the maximum number\",b)\n",
    "    else:\n",
    "        print(\"c is the maximum number\",c)\n",
    "\n",
    "a=int(input(\"Enter first number: \"))\n",
    "b=int(input(\"Enter second number: \"))\n",
    "c=int(input(\"Enter third number: \"))\n",
    "\n",
    "max_num(a, b, c)"
   ]
  },
  {
   "cell_type": "markdown",
   "id": "268e9679",
   "metadata": {},
   "source": [
    "9. Function to Check if a String is a Palindrome"
   ]
  },
  {
   "cell_type": "code",
   "execution_count": 2,
   "id": "eed3a013",
   "metadata": {},
   "outputs": [
    {
     "name": "stdout",
     "output_type": "stream",
     "text": [
      "the entered string is: malayalam\n",
      "Palindrome\n"
     ]
    }
   ],
   "source": [
    "def is_palindrome(s):\n",
    "    if s == s[::-1]:\n",
    "        print(\"Palindrome\")\n",
    "    else:\n",
    "        print(\"Not a palindrome\")\n",
    "\n",
    "s = input(\"Enter a string: \")\n",
    "print(\"the entered string is:\",s)\n",
    "is_palindrome(s)"
   ]
  },
  {
   "cell_type": "markdown",
   "id": "68542539",
   "metadata": {},
   "source": [
    "10.Write a function to print all factors of a number."
   ]
  },
  {
   "cell_type": "code",
   "execution_count": 4,
   "id": "08456f8a",
   "metadata": {},
   "outputs": [
    {
     "name": "stdout",
     "output_type": "stream",
     "text": [
      "1 2 4 5 10 20 "
     ]
    }
   ],
   "source": [
    "def factors(n):\n",
    "     for i in range(1, n + 1):\n",
    "         if n % i == 0:\n",
    "             print(i, end=\" \")\n",
    "\n",
    "factors(20)"
   ]
  }
 ],
 "metadata": {
  "kernelspec": {
   "display_name": "Python 3",
   "language": "python",
   "name": "python3"
  },
  "language_info": {
   "codemirror_mode": {
    "name": "ipython",
    "version": 3
   },
   "file_extension": ".py",
   "mimetype": "text/x-python",
   "name": "python",
   "nbconvert_exporter": "python",
   "pygments_lexer": "ipython3",
   "version": "3.11.8"
  }
 },
 "nbformat": 4,
 "nbformat_minor": 5
}
