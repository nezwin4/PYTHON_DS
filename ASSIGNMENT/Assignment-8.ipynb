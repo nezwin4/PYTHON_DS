{
 "cells": [
  {
   "cell_type": "markdown",
   "id": "7bb2d28b",
   "metadata": {},
   "source": [
    "1.Create 1D,2D,3D array . check it’s shape and dimension"
   ]
  },
  {
   "cell_type": "code",
   "execution_count": 2,
   "id": "d908466d",
   "metadata": {},
   "outputs": [
    {
     "name": "stdout",
     "output_type": "stream",
     "text": [
      "[1 2 3 4]\n",
      "1\n",
      "(4,)\n"
     ]
    }
   ],
   "source": [
    "import pandas as pd \n",
    "import numpy as np\n",
    "\n",
    "d1= np.array([1,2,3,4])\n",
    "\n",
    "print(d1)\n",
    "\n",
    "print(d1.ndim)\n",
    "print(d1.shape)\n"
   ]
  },
  {
   "cell_type": "code",
   "execution_count": 3,
   "id": "dff10805",
   "metadata": {},
   "outputs": [
    {
     "name": "stdout",
     "output_type": "stream",
     "text": [
      "[[ 1  2  3]\n",
      " [ 4  5  6]\n",
      " [ 7  8  9]\n",
      " [10 11 12]]\n",
      "1\n",
      "(4,)\n"
     ]
    }
   ],
   "source": [
    "d2= np.array([[1,2,3],[4,5,6],\n",
    "            [7,8,9],[10,11,12]])\n",
    "\n",
    "print(d2)\n",
    "print(d1.ndim)\n",
    "print(d1.shape)"
   ]
  },
  {
   "cell_type": "code",
   "execution_count": 4,
   "id": "fafaab87",
   "metadata": {},
   "outputs": [
    {
     "name": "stdout",
     "output_type": "stream",
     "text": [
      "[[[ 1  2  3]\n",
      "  [ 4  5  6]]\n",
      "\n",
      " [[ 7  8  9]\n",
      "  [10 11 12]]\n",
      "\n",
      " [[13 14 15]\n",
      "  [16 17 18]]]\n",
      "1\n",
      "(4,)\n"
     ]
    }
   ],
   "source": [
    "d3= np.array([[[1,2,3],[4,5,6]],\n",
    "             [[7,8,9],[10,11,12]],\n",
    "             [[13,14,15],[16,17,18]]])\n",
    "\n",
    "print(d3)\n",
    "print(d1.ndim)\n",
    "print(d1.shape)"
   ]
  },
  {
   "cell_type": "markdown",
   "id": "c169c157",
   "metadata": {},
   "source": [
    "2.Create a NumPy array of numbers from 10 to 50 (inclusive) with a step of 5."
   ]
  },
  {
   "cell_type": "code",
   "execution_count": 5,
   "id": "bbb21daa",
   "metadata": {},
   "outputs": [
    {
     "data": {
      "text/plain": [
       "array([10, 15, 20, 25, 30, 35, 40, 45])"
      ]
     },
     "execution_count": 5,
     "metadata": {},
     "output_type": "execute_result"
    }
   ],
   "source": [
    "np.arange(10,50,5)"
   ]
  },
  {
   "cell_type": "markdown",
   "id": "f64715cc",
   "metadata": {},
   "source": [
    "3.Generate a 3×3 matrix of random integers between 1 and 20."
   ]
  },
  {
   "cell_type": "code",
   "execution_count": 6,
   "id": "79cce194",
   "metadata": {},
   "outputs": [
    {
     "data": {
      "text/plain": [
       "array([[ 9, 13, 10],\n",
       "       [ 9, 12, 16],\n",
       "       [16,  2, 19]], dtype=int32)"
      ]
     },
     "execution_count": 6,
     "metadata": {},
     "output_type": "execute_result"
    }
   ],
   "source": [
    "np.random.randint(1, 21, size=(3, 3))"
   ]
  },
  {
   "cell_type": "markdown",
   "id": "9a49bcde",
   "metadata": {},
   "source": [
    "4.From the array:\n",
    "Extract the second row.\n",
    "Extract the first column.\n",
    "Extract the subarray containing rows 1–2 and columns 2–4.\n",
    "Replace all even numbers in arr with -1"
   ]
  },
  {
   "cell_type": "code",
   "execution_count": 11,
   "id": "0c7176d9",
   "metadata": {},
   "outputs": [
    {
     "name": "stdout",
     "output_type": "stream",
     "text": [
      "Second row: [4 5 6]\n",
      "First column: [ 1  4  7 10]\n",
      "Subarray (rows 1–2, columns 2–4): [[2 3]\n",
      " [5 6]]\n",
      "arr with even numbers replaced by -1: [ 1 -1  3 -1  5 -1  7 -1  9 -1 11 -1]\n"
     ]
    }
   ],
   "source": [
    "second_row = d2[1]\n",
    "print(\"Second row:\", second_row)\n",
    "\n",
    "column1 = d2[:, 0]\n",
    "print(\"First column:\", column1)\n",
    "\n",
    "subarray = d2[0:2, 1:3]\n",
    "print(\"Subarray (rows 1–2, columns 2–4):\", subarray)\n",
    "\n",
    "# Ensure arr is defined\n",
    "arr = np.arange(1, 13)\n",
    "\n",
    "arr_replaced = arr.copy()\n",
    "arr_replaced[arr_replaced % 2 == 0] = -1\n",
    "print(\"arr with even numbers replaced by -1:\", arr_replaced)"
   ]
  },
  {
   "cell_type": "markdown",
   "id": "463c221d",
   "metadata": {},
   "source": [
    "5.Given:\n",
    "a = np.array([1, 2, 3])\n",
    "b = np.array([4, 5, 6])\n",
    "Perform element-wise addition, subtraction, multiplication, and division."
   ]
  },
  {
   "cell_type": "code",
   "execution_count": null,
   "id": "f4c3f613",
   "metadata": {},
   "outputs": [
    {
     "name": "stdout",
     "output_type": "stream",
     "text": [
      "sum= [5 7 9] subtraction= [-3 -3 -3] multiplication= [ 4 10 18] division= [0.25 0.4  0.5 ]\n"
     ]
    }
   ],
   "source": [
    "a=np.array([1,2,3])\n",
    "b=np.array([4,5,6])\n",
    "\n",
    "print(\"sum=\", np.add(a, b),\n",
    "\t  \"subtraction=\", np.subtract(a, b),\n",
    "\t  \"multiplication=\", np.multiply(a, b),\n",
    "\t  \"division=\", np.divide(a, b))"
   ]
  },
  {
   "cell_type": "markdown",
   "id": "35470ce4",
   "metadata": {},
   "source": [
    "6.Create a 1D array of numbers from 1 to 12. Reshape it into:  3×4 matrix"
   ]
  },
  {
   "cell_type": "code",
   "execution_count": null,
   "id": "de9d21ff",
   "metadata": {},
   "outputs": [
    {
     "data": {
      "text/plain": [
       "array([[ 1,  2,  3,  4],\n",
       "       [ 5,  6,  7,  8],\n",
       "       [ 9, 10, 11, 12]])"
      ]
     },
     "execution_count": 29,
     "metadata": {},
     "output_type": "execute_result"
    }
   ],
   "source": [
    "arr=np.arange(1,13)\n",
    "arr\n",
    "arr.reshape(3,4)"
   ]
  }
 ],
 "metadata": {
  "kernelspec": {
   "display_name": "Python 3",
   "language": "python",
   "name": "python3"
  },
  "language_info": {
   "codemirror_mode": {
    "name": "ipython",
    "version": 3
   },
   "file_extension": ".py",
   "mimetype": "text/x-python",
   "name": "python",
   "nbconvert_exporter": "python",
   "pygments_lexer": "ipython3",
   "version": "3.11.8"
  }
 },
 "nbformat": 4,
 "nbformat_minor": 5
}
