{
 "cells": [
  {
   "cell_type": "markdown",
   "id": "784cb0bb",
   "metadata": {},
   "source": [
    "1.Write the program to find the lists consist of at least one common element."
   ]
  },
  {
   "cell_type": "code",
   "execution_count": 9,
   "id": "38fd980b",
   "metadata": {},
   "outputs": [
    {
     "name": "stdout",
     "output_type": "stream",
     "text": [
      "[2, 4, 5]\n"
     ]
    }
   ],
   "source": [
    "list1 = [1, 2, 3, 4, 5]\n",
    "list2 = [5, 6, 4, 8, 2]\n",
    "common_elements = set(list1) & set(list2)\n",
    "print(list(common_elements))\n"
   ]
  },
  {
   "cell_type": "markdown",
   "id": "9a4c6670",
   "metadata": {},
   "source": [
    "2.Write a program that takes a list of integers and returns a new list with all even numbers removed."
   ]
  },
  {
   "cell_type": "code",
   "execution_count": 7,
   "id": "72a4b277",
   "metadata": {},
   "outputs": [
    {
     "name": "stdout",
     "output_type": "stream",
     "text": [
      "2\n",
      "4\n",
      "6\n",
      "8\n",
      "10\n"
     ]
    }
   ],
   "source": [
    "a=[1,2,3,4,5,6,7,8,9,10]\n",
    "\n",
    "for i in range(len(a)):\n",
    "    if a[i]%2==0:\n",
    "        print(a[i])\n",
    "        "
   ]
  },
  {
   "cell_type": "markdown",
   "id": "45295b0f",
   "metadata": {},
   "source": [
    "3.Given a list of strings, return a new list with only those strings that have more than 3 characters."
   ]
  },
  {
   "cell_type": "code",
   "execution_count": 11,
   "id": "4b94fb89",
   "metadata": {},
   "outputs": [
    {
     "name": "stdout",
     "output_type": "stream",
     "text": [
      "apple\n",
      "banana\n"
     ]
    }
   ],
   "source": [
    "s = [\"apple\", \"cat\", \"dog\", \"banana\", \"pie\"]\n",
    "for i in s:\n",
    "    if len(i) > 3:\n",
    "        print(i)\n"
   ]
  },
  {
   "cell_type": "markdown",
   "id": "d7a45520",
   "metadata": {},
   "source": [
    "4.Write a function that replaces all negative numbers in a list with zero using a for loop and if condition."
   ]
  },
  {
   "cell_type": "code",
   "execution_count": null,
   "id": "56d07f2c",
   "metadata": {},
   "outputs": [
    {
     "name": "stdout",
     "output_type": "stream",
     "text": [
      "[1, 0, 2, 0, 3, 0, 4, 5]\n"
     ]
    }
   ],
   "source": [
    "n_list = [1, -1, 2, -5, 3, -8, 4, 5]\n",
    " \n",
    "for i in range(len(n_list)):\n",
    "    if n_list[i] <0:\n",
    "        n_list[i] = 0\n",
    "print(n_list)"
   ]
  },
  {
   "cell_type": "markdown",
   "id": "d5d674df",
   "metadata": {},
   "source": [
    "5.Create a list of squares of all odd numbers from a given list."
   ]
  },
  {
   "cell_type": "code",
   "execution_count": 16,
   "id": "544ec7b4",
   "metadata": {},
   "outputs": [
    {
     "name": "stdout",
     "output_type": "stream",
     "text": [
      "[1, 9, 25, 49, 81]\n"
     ]
    }
   ],
   "source": [
    "list1 = [1, 2, 3, 4, 5, 6, 7, 8, 9, 10]\n",
    "list2 = []\n",
    "\n",
    "for i in range(len(list1)):\n",
    "    if list1[i]%2!=0:\n",
    "        list2.append(list1[i]**2)\n",
    "print(list2)\n"
   ]
  }
 ],
 "metadata": {
  "kernelspec": {
   "display_name": "Python 3",
   "language": "python",
   "name": "python3"
  },
  "language_info": {
   "codemirror_mode": {
    "name": "ipython",
    "version": 3
   },
   "file_extension": ".py",
   "mimetype": "text/x-python",
   "name": "python",
   "nbconvert_exporter": "python",
   "pygments_lexer": "ipython3",
   "version": "3.11.8"
  }
 },
 "nbformat": 4,
 "nbformat_minor": 5
}
